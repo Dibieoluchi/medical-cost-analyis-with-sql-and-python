{
 "cells": [
  {
   "cell_type": "markdown",
   "id": "a5fcc106",
   "metadata": {},
   "source": [
    "Can we predict medical costs based on age, BMI, and smoking habits?"
   ]
  },
  {
   "cell_type": "code",
   "execution_count": 1,
   "id": "11ab4781",
   "metadata": {},
   "outputs": [],
   "source": [
    "import matplotlib.pyplot as plt\n",
    "import seaborn as sns\n",
    "import pandas as pd \n",
    "import seaborn as sns \n",
    "from sklearn import linear_model\n",
    "from sklearn.metrics import r2_score\n",
    "from sklearn.linear_model import LinearRegression\n",
    "from sklearn.model_selection import train_test_split"
   ]
  },
  {
   "cell_type": "code",
   "execution_count": 2,
   "id": "c3c55f07",
   "metadata": {},
   "outputs": [],
   "source": [
    "import csv, sqlite3\n",
    "\n",
    "con = sqlite3.connect(\"insurance.db\") \n",
    "cur = con.cursor()     "
   ]
  },
  {
   "cell_type": "code",
   "execution_count": 3,
   "id": "88842a1a",
   "metadata": {},
   "outputs": [],
   "source": [
    "import pandas\n",
    "df = pandas.read_csv('insurance.csv')"
   ]
  },
  {
   "cell_type": "code",
   "execution_count": 4,
   "id": "e20b675f",
   "metadata": {},
   "outputs": [],
   "source": [
    "# Store the DataFrame in a database table\n",
    "df.to_sql('insurance_data', con, if_exists='replace', index=False)"
   ]
  },
  {
   "cell_type": "code",
   "execution_count": 5,
   "id": "a149967b",
   "metadata": {},
   "outputs": [],
   "source": [
    "insurance_data = pd.read_sql(\"SELECT * FROM insurance_data LIMIT 10;\", con)"
   ]
  },
  {
   "cell_type": "code",
   "execution_count": 6,
   "id": "fddaa78d",
   "metadata": {},
   "outputs": [
    {
     "name": "stdout",
     "output_type": "stream",
     "text": [
      "   age     sex     bmi  children smoker     region      charges\n",
      "0   19  female  27.900         0    yes  southwest  16884.92400\n",
      "1   18    male  33.770         1     no  southeast   1725.55230\n",
      "2   28    male  33.000         3     no  southeast   4449.46200\n",
      "3   33    male  22.705         0     no  northwest  21984.47061\n",
      "4   32    male  28.880         0     no  northwest   3866.85520\n",
      "5   31  female  25.740         0     no  southeast   3756.62160\n",
      "6   46  female  33.440         1     no  southeast   8240.58960\n",
      "7   37  female  27.740         3     no  northwest   7281.50560\n",
      "8   37    male  29.830         2     no  northeast   6406.41070\n",
      "9   60  female  25.840         0     no  northwest  28923.13692\n"
     ]
    }
   ],
   "source": [
    "print(insurance_data)"
   ]
  },
  {
   "cell_type": "code",
   "execution_count": 7,
   "id": "c9240b8f",
   "metadata": {},
   "outputs": [],
   "source": [
    "# Execute the SQL query and retrieve the last 10 rows into a DataFrame\n",
    "insurance_data = pd.read_sql(\"SELECT * FROM insurance_data ORDER BY ROWID DESC LIMIT 10;\", con)\n"
   ]
  },
  {
   "cell_type": "code",
   "execution_count": 8,
   "id": "33e941e5",
   "metadata": {},
   "outputs": [
    {
     "name": "stdout",
     "output_type": "stream",
     "text": [
      "   age     sex     bmi  children smoker     region      charges\n",
      "0   61  female  29.070         0    yes  northwest  29141.36030\n",
      "1   21  female  25.800         0     no  southwest   2007.94500\n",
      "2   18  female  36.850         0     no  southeast   1629.83350\n",
      "3   18  female  31.920         0     no  northeast   2205.98080\n",
      "4   50    male  30.970         3     no  northwest  10600.54830\n",
      "5   52  female  44.700         3     no  southwest  11411.68500\n",
      "6   23  female  33.400         0     no  southwest  10795.93733\n",
      "7   57  female  25.740         2     no  southeast  12629.16560\n",
      "8   52    male  38.600         2     no  southwest  10325.20600\n",
      "9   23  female  24.225         2     no  northeast  22395.74424\n"
     ]
    }
   ],
   "source": [
    "print(insurance_data)"
   ]
  },
  {
   "cell_type": "code",
   "execution_count": 9,
   "id": "367f19e5",
   "metadata": {},
   "outputs": [
    {
     "name": "stdout",
     "output_type": "stream",
     "text": [
      "Number of rows: 1338\n"
     ]
    }
   ],
   "source": [
    "# Execute the SQL query to get the count of rows\n",
    "cur.execute(\"SELECT COUNT(*) FROM insurance_data\")\n",
    "# Fetch the result\n",
    "row_count = cur.fetchone()[0]\n",
    "# Print the number of rows\n",
    "print(\"Number of rows:\", row_count)"
   ]
  },
  {
   "cell_type": "code",
   "execution_count": 10,
   "id": "1d218d49",
   "metadata": {},
   "outputs": [
    {
     "name": "stdout",
     "output_type": "stream",
     "text": [
      "<class 'pandas.core.frame.DataFrame'>\n",
      "RangeIndex: 10 entries, 0 to 9\n",
      "Data columns (total 7 columns):\n",
      " #   Column    Non-Null Count  Dtype  \n",
      "---  ------    --------------  -----  \n",
      " 0   age       10 non-null     int64  \n",
      " 1   sex       10 non-null     object \n",
      " 2   bmi       10 non-null     float64\n",
      " 3   children  10 non-null     int64  \n",
      " 4   smoker    10 non-null     object \n",
      " 5   region    10 non-null     object \n",
      " 6   charges   10 non-null     float64\n",
      "dtypes: float64(2), int64(2), object(3)\n",
      "memory usage: 688.0+ bytes\n"
     ]
    }
   ],
   "source": [
    "insurance_data.info()"
   ]
  },
  {
   "cell_type": "code",
   "execution_count": 11,
   "id": "3f2b84c1",
   "metadata": {},
   "outputs": [
    {
     "data": {
      "text/plain": [
       "age         0\n",
       "sex         0\n",
       "bmi         0\n",
       "children    0\n",
       "smoker      0\n",
       "region      0\n",
       "charges     0\n",
       "dtype: int64"
      ]
     },
     "execution_count": 11,
     "metadata": {},
     "output_type": "execute_result"
    }
   ],
   "source": [
    "insurance_data.isna().sum()"
   ]
  },
  {
   "cell_type": "code",
   "execution_count": 12,
   "id": "393c5ee9",
   "metadata": {},
   "outputs": [],
   "source": [
    "# distribution of medical charges "
   ]
  },
  {
   "cell_type": "code",
   "execution_count": 13,
   "id": "e0f125f3",
   "metadata": {},
   "outputs": [],
   "source": [
    "query = \"SELECT charges FROM insurance_data\"\n",
    "result = pd.read_sql(query, con)\n"
   ]
  },
  {
   "cell_type": "code",
   "execution_count": 14,
   "id": "318178be",
   "metadata": {},
   "outputs": [
    {
     "data": {
      "image/png": "[encoded data removed]",
      "text/plain": [
       "<Figure size 432x288 with 1 Axes>"
      ]
     },
     "metadata": {
      "needs_background": "light"
     },
     "output_type": "display_data"
    }
   ],
   "source": [
    "sns.kdeplot(data=result['charges'])\n",
    "plt.xlabel('Charges')\n",
    "plt.ylabel('Density')\n",
    "plt.title('KDE Plot of Charges')\n",
    "plt.show()\n"
   ]
  },
  {
   "cell_type": "markdown",
   "id": "ff0be926",
   "metadata": {},
   "source": [
    "The medical charges column's KDE plot reveals that the data is heavily left-skewed (toward lower charges) and primarily composed of low charges, suggesting that the majority of the medical charges in the dataset are concentrated at lower values. This data may show certain characteristics of the dataset and offer insights into how medical charges are distributed.\n",
    "\n",
    "A left-skewed distribution in the context of medical fees indicates that there are more cases of lower fees and fewer instances of higher fees. This may be the result of a number of things that I have not yet identified. "
   ]
  },
  {
   "cell_type": "code",
   "execution_count": null,
   "id": "0f046887",
   "metadata": {},
   "outputs": [],
   "source": []
  },
  {
   "cell_type": "code",
   "execution_count": 15,
   "id": "4ca04aae",
   "metadata": {},
   "outputs": [],
   "source": [
    "# distriburtion of age"
   ]
  },
  {
   "cell_type": "code",
   "execution_count": 16,
   "id": "7dfbfa05",
   "metadata": {},
   "outputs": [],
   "source": [
    "query = \"SELECT age FROM insurance_data\"\n",
    "result = pd.read_sql(query, con)"
   ]
  },
  {
   "cell_type": "code",
   "execution_count": 17,
   "id": "75f12369",
   "metadata": {},
   "outputs": [
    {
     "data": {
      "image/png": "[encoded data removed]",
      "text/plain": [
       "<Figure size 432x288 with 1 Axes>"
      ]
     },
     "metadata": {
      "needs_background": "light"
     },
     "output_type": "display_data"
    }
   ],
   "source": [
    "sns.kdeplot(data=result['age'])\n",
    "plt.xlabel('age')\n",
    "plt.ylabel('Density')\n",
    "plt.title('KDE Plot of Charges')\n",
    "plt.show()\n"
   ]
  },
  {
   "cell_type": "markdown",
   "id": "02c932ad",
   "metadata": {},
   "source": [
    "The dataset's age distribution has two peaks, one around age 20 and the other between 50 and 60, which supports a bimodal distribution rather than the more common normal distribution. The presence of two separate groups or subpopulations with various healthcare requirements or patterns of medical service consumption is indicated by the presence of a bimodal pattern in the dataset. For instance, the peak around the age of 20 may reflect a younger population that predominantly needs services like preventative care, vaccines, or treatment for common illnesses prevalent in that age group. The surge between 50 and 60 could signify an aging population in need of more specialized healthcare or management of aging-related chronic illnesses."
   ]
  },
  {
   "cell_type": "code",
   "execution_count": 18,
   "id": "f8b29118",
   "metadata": {},
   "outputs": [],
   "source": [
    "# Execute the SQL query to retrieve the age and charges data\n",
    "query = \"SELECT age, charges FROM insurance_data\"\n",
    "result = pd.read_sql(query, con)\n"
   ]
  },
  {
   "cell_type": "code",
   "execution_count": 19,
   "id": "db7a1eeb",
   "metadata": {},
   "outputs": [],
   "source": [
    "# Sort the data by age in ascending order\n",
    "result = result.sort_values(by='age')"
   ]
  },
  {
   "cell_type": "code",
   "execution_count": 20,
   "id": "bb347e05",
   "metadata": {},
   "outputs": [
    {
     "data": {
      "image/png": "[encoded data removed]",
      "text/plain": [
       "<Figure size 432x288 with 1 Axes>"
      ]
     },
     "metadata": {
      "needs_background": "light"
     },
     "output_type": "display_data"
    }
   ],
   "source": [
    "# Plot a scatter plot\n",
    "plt.plot(result['age'], result['charges'])\n",
    "plt.xlabel('Age')\n",
    "plt.ylabel('Medical Charges')\n",
    "plt.title('Age vs Medical Charges')\n",
    "plt.show()"
   ]
  },
  {
   "cell_type": "code",
   "execution_count": 21,
   "id": "95bf7004",
   "metadata": {},
   "outputs": [
    {
     "data": {
      "text/plain": [
       "36.5"
      ]
     },
     "execution_count": 21,
     "metadata": {},
     "output_type": "execute_result"
    }
   ],
   "source": [
    "insurance_data['age'].median()"
   ]
  },
  {
   "cell_type": "markdown",
   "id": "0def7ae0",
   "metadata": {},
   "source": [
    "1. The dataset's median age is 36.5, indicating that the age distribution is roughly centered around this value.\n",
    "\n",
    "I observed  the following  while plotting the age column against medical expenses:\n",
    "\n",
    "1. Age-Related Increase: Medical costs often rise as people become older, especially between the ages of 35, 45, and 55. This shows that, when compared to younger people, older people tend to have higher medical expenses.\n",
    "2. Decline after 60: It seems that medical costs start to decline after 60. This suggests that those in their 60s and older may have lower medical expenses than people in their late 30s to mid-50s.\n",
    "3. Age as a Risk Factor: The observed increase in medical charges with age indicates that age is a significant factor influencing medical costs. Older individuals often require more healthcare services, treatments, and medications due to age-related health issues and chronic conditions. This finding highlights the importance of considering age when estimating and planning for medical costs. \n",
    "4. The decrease in medical charges after the age of 60 could be attributed to several factors. It's possible that older individuals have already undergone major medical treatments or surgeries earlier in life, resulting in reduced medical costs later on. Additionally, healthcare needs may vary in the elderly population, with a shift towards more preventive care and management of existing conditions rather than expensive interventions. Understanding this trend can help individuals and healthcare systems plan and allocate resources accordingly."
   ]
  },
  {
   "cell_type": "code",
   "execution_count": null,
   "id": "eaf8a5fb",
   "metadata": {},
   "outputs": [],
   "source": []
  },
  {
   "cell_type": "code",
   "execution_count": 22,
   "id": "9ca4022a",
   "metadata": {},
   "outputs": [],
   "source": [
    "query = \"SELECT sex FROM insurance_data\"\n",
    "result = pd.read_sql(query, con)\n"
   ]
  },
  {
   "cell_type": "code",
   "execution_count": 23,
   "id": "170f0c8e",
   "metadata": {},
   "outputs": [
    {
     "data": {
      "image/png": "[encoded data removed]",
      "text/plain": [
       "<Figure size 432x288 with 1 Axes>"
      ]
     },
     "metadata": {
      "needs_background": "light"
     },
     "output_type": "display_data"
    }
   ],
   "source": [
    "sex_counts = result['sex'].value_counts()\n",
    "\n",
    "plt.bar(sex_counts.index, sex_counts.values)\n",
    "plt.xlabel('Sex')\n",
    "plt.ylabel('Count')\n",
    "plt.title('Distribution of Sex')\n",
    "plt.show()"
   ]
  },
  {
   "cell_type": "markdown",
   "id": "17dc6976",
   "metadata": {},
   "source": [
    "It can be seen that there are somewhat more males than females based on the bar plot of the dataset's sex distribution. so i can deduce the following :\n",
    "1. Male to female ratio: Nearly equal numbers of men and women are represented in the dataset, with men having a little larger representation.\n",
    "2. Near-equal representation of men and women in the dataset indicates that the data offers a balanced viewpoint and enables a fair analysis of gender-related variables in connection to medical expenses.\n",
    "3. Implications: When analyzing how gender affects medical expenditures, the balanced representation makes sure that any observed variations in charges may be attributed to gender-specific variables rather than imbalances in the dataset.\n"
   ]
  },
  {
   "cell_type": "code",
   "execution_count": 24,
   "id": "9eec58ac",
   "metadata": {},
   "outputs": [],
   "source": [
    "query = \"SELECT sex, charges FROM insurance_data\"\n",
    "result = pd.read_sql(query, con)\n"
   ]
  },
  {
   "cell_type": "code",
   "execution_count": 25,
   "id": "1f892c09",
   "metadata": {},
   "outputs": [
    {
     "data": {
      "image/png": "[encoded data removed]",
      "text/plain": [
       "<Figure size 432x288 with 1 Axes>"
      ]
     },
     "metadata": {
      "needs_background": "light"
     },
     "output_type": "display_data"
    }
   ],
   "source": [
    "# Create a box plot or violin plot\n",
    "sns.boxplot(x='sex', y='charges', data=result)\n",
    "# or sns.violinplot(x='sex', y='charges', data=result)\n",
    "\n",
    "# Add labels and title\n",
    "plt.xlabel('Sex')\n",
    "plt.ylabel('Medical Charges')\n",
    "plt.title('Relationship between Sex and Medical Charges')\n",
    "\n",
    "# Display the plot\n",
    "plt.show()\n"
   ]
  },
  {
   "cell_type": "code",
   "execution_count": 26,
   "id": "1d03f840",
   "metadata": {},
   "outputs": [
    {
     "data": {
      "text/plain": [
       "10698.242815"
      ]
     },
     "execution_count": 26,
     "metadata": {},
     "output_type": "execute_result"
    }
   ],
   "source": [
    "insurance_data['charges'].median()"
   ]
  },
  {
   "cell_type": "markdown",
   "id": "39c43f0f",
   "metadata": {},
   "source": [
    "The following observations can be summed up based on my analysis of the boxplot of sex against medical charges:\n",
    "1.  Males and females have roughly similar median charges (50th percentile). This indicates that the median cost of medical care is comparable for men and women.\n",
    "\n",
    "2. Higher Fees for Men: According to the boxplot, men often pay higher medical fees than women do. This is evident from the higher placement of the upper quartile (75th percentile) line for men.\n",
    "\n",
    "4. Several factors may be responsible for the outliers in the medical charges. Individuals who have medical costs that are notably higher than the average for the population are considered outliers. The following are some potential explanations for the unusual medical charges:\n",
    "\n",
    "5. Serious Medical Conditions: Outliers may be people with serious or uncommon illnesses that require extensive  medical care, major surgery, or specialist drugs. Medical costs in these circumstances could be extremely costly.\n",
    "6. Unexpected Medical Emergencies: Outliers can also be caused by unanticipated medical emergencies, like accidents, unexpected diseases, or problems that call for quick and intensive medical treatment. Charges are frequently greater in these circumstances because of how urgent they are.\n",
    "\n",
    "In conclusion, although the median costs are comparable for men and women, men typically experience a wider range of medical costs. Additionally, a sizeable portion of people of both sexes pay fees that are higher than the median amount. The existence of outliers suggests that there are instances where people experience significantly higher medical costs than the general population, especially among females.\n",
    "\n"
   ]
  },
  {
   "cell_type": "code",
   "execution_count": 27,
   "id": "eeb15a95",
   "metadata": {},
   "outputs": [],
   "source": [
    "# Execute the SQL query to retrieve the age and charges data\n",
    "query = \"SELECT bmi  FROM insurance_data\"\n",
    "result = pd.read_sql(query, con)"
   ]
  },
  {
   "cell_type": "code",
   "execution_count": 28,
   "id": "1b42f644",
   "metadata": {},
   "outputs": [
    {
     "data": {
      "image/png": "[encoded data removed]",
      "text/plain": [
       "<Figure size 432x288 with 1 Axes>"
      ]
     },
     "metadata": {
      "needs_background": "light"
     },
     "output_type": "display_data"
    }
   ],
   "source": [
    "sns.kdeplot(data=result['bmi'])\n",
    "plt.xlabel('bmi')\n",
    "plt.ylabel('Density')\n",
    "plt.title('KDE Plot of Charges')\n",
    "plt.show()\n"
   ]
  },
  {
   "cell_type": "markdown",
   "id": "682df47d",
   "metadata": {},
   "source": [
    "the KDE plot for the BMI column shows a bell-shaped distribution, indicating a normal distribution . The presence of a peak at BMI 30 suggests that the dataset contains a significant proportion of individuals with BMIs around this value, potentially indicating a higher prevalence of overweight or obese individuals(bmi bove 25). Understanding the distribution of BMI in the dataset is important for assessing the overall health profile and subsequent charges "
   ]
  },
  {
   "cell_type": "code",
   "execution_count": 29,
   "id": "59773576",
   "metadata": {},
   "outputs": [],
   "source": [
    "# Execute the SQL query to retrieve the age and charges data\n",
    "query = \"SELECT bmi, charges FROM insurance_data\"\n",
    "result = pd.read_sql(query, con)\n"
   ]
  },
  {
   "cell_type": "code",
   "execution_count": 30,
   "id": "67ba957e",
   "metadata": {},
   "outputs": [],
   "source": [
    "# Sort the data by age in ascending order\n",
    "result = result.sort_values(by='bmi')"
   ]
  },
  {
   "cell_type": "code",
   "execution_count": 31,
   "id": "eaf94a94",
   "metadata": {},
   "outputs": [
    {
     "data": {
      "image/png": "[encoded data removed]",
      "text/plain": [
       "<Figure size 432x288 with 1 Axes>"
      ]
     },
     "metadata": {
      "needs_background": "light"
     },
     "output_type": "display_data"
    }
   ],
   "source": [
    "\n",
    "plt.scatter(result['bmi'], result['charges'])\n",
    "plt.xlabel('BMI')\n",
    "plt.ylabel('Medical Charges')\n",
    "plt.title('BMI vs Medical Charges')\n",
    "plt.show()\n"
   ]
  },
  {
   "cell_type": "markdown",
   "id": "71a479fc",
   "metadata": {},
   "source": [
    "According to the scatter plot of BMI vs medical costs, there seems to be a rising trend in costs as BMI rises. As a result, those with higher BMIs typically have higher medical expenses than do people with lower BMIs.\n",
    "\n",
    "\n",
    "The fact that BMI and medical costs are positively correlated raises the possibility that a higher BMI and higher healthcare expenses are related. This observation could be the result of numerous factors:\n",
    "\n",
    "\n",
    "\n",
    "1. Health Conditions: A higher BMI is frequently linked to an increased risk of a number of illnesses, including diabetes, cardiovascular disease, and musculoskeletal ailments. Higher medical costs may result from these disorders necessitating more frequent doctor visits, specialist care, prescription drugs, or procedures.\n",
    "2. Treatment Complexity: Individuals with higher BMI may require additional resources, specialized equipment, or modifications to standard treatments to accommodate their body size. These factors can contribute to increased medical costs.\n",
    "\n",
    "3. Comorbidity: Obesity is often linked to the presence of multiple health conditions occurring simultaneously, known as comorbidity. The management of comorbid conditions typically involves additional medical interventions and ongoing healthcare, which can drive up the overall medical charges."
   ]
  },
  {
   "cell_type": "code",
   "execution_count": 32,
   "id": "27b6ae57",
   "metadata": {},
   "outputs": [],
   "source": [
    "query = \"SELECT smoker FROM insurance_data\"\n",
    "result = pd.read_sql(query, con)\n"
   ]
  },
  {
   "cell_type": "code",
   "execution_count": 33,
   "id": "e05f29df",
   "metadata": {},
   "outputs": [
    {
     "data": {
      "image/png": "[encoded data removed]",
      "text/plain": [
       "<Figure size 432x288 with 1 Axes>"
      ]
     },
     "metadata": {
      "needs_background": "light"
     },
     "output_type": "display_data"
    }
   ],
   "source": [
    "smoker= result['smoker'].value_counts()\n",
    "\n",
    "plt.bar(smoker.index, smoker.values)\n",
    "plt.xlabel('Smoker')\n",
    "plt.ylabel('Count')\n",
    "plt.title('Distribution of Sex')\n",
    "plt.show()"
   ]
  },
  {
   "cell_type": "markdown",
   "id": "c8b8f26f",
   "metadata": {},
   "source": [
    "Based on the plot of the distribution of smokers in the dataset, it appears that there are more non-smokers than smokers. This indicates that the majority of individuals in the dataset do not smoke.\n",
    "Understanding the distribution of smokers in the dataset can help in analyzing the impact of smoking on medical costs. It allows for comparisons between smokers and non-smokers to determine if there are significant differences in medical charges based on smoking habits. Additionally, it highlights the importance of considering smoking as a potential factor when studying the relationship between other variables, such as age, BMI, and medical charges"
   ]
  },
  {
   "cell_type": "code",
   "execution_count": 34,
   "id": "4e6acc2a",
   "metadata": {},
   "outputs": [],
   "source": [
    "query = \"SELECT smoker, charges FROM insurance_data\"\n",
    "result = pd.read_sql(query, con)\n"
   ]
  },
  {
   "cell_type": "code",
   "execution_count": 35,
   "id": "4d1dc476",
   "metadata": {},
   "outputs": [
    {
     "data": {
      "image/png": "[encoded data removed]",
      "text/plain": [
       "<Figure size 432x288 with 1 Axes>"
      ]
     },
     "metadata": {
      "needs_background": "light"
     },
     "output_type": "display_data"
    }
   ],
   "source": [
    "sns.boxplot(x='smoker', y='charges', data=result)\n",
    "plt.xlabel('Smoker')\n",
    "plt.ylabel('Medical Charges')\n",
    "plt.title('Relationship between Smokers and Medical Charges')\n",
    "plt.show()"
   ]
  },
  {
   "cell_type": "markdown",
   "id": "846d3105",
   "metadata": {},
   "source": [
    "The boxplot of smokers vs. medical charges reveals several interesting insights regarding the relationship between smoking habits and medical charges:\n",
    "\n",
    "1. Higher Average Charges for Smokers: The median or average medical charge for smokers is significantly higher than the overall median charge of the dataset (10,698). This suggests that smokers tend to have higher medical expenses compared to non-smokers.\n",
    "\n",
    "2. Higher Charges Across Percentiles: The boxplot shows that the range of charges for smokers is generally higher than that of non-smokers at every percentile. Even the lowest charge (50th percentile) for smokers exceeds the 70th percentile charge for non-smokers. This indicates that smoking habit is associated with increased medical costs across the board.\n",
    "\n",
    "3. Increasing Charges with Smoking Habit: The boxplot also demonstrates a clear increasing trend in charges as the smoking habit is present. The higher charges for smokers reflect the additional healthcare needs and potential health complications associated with smoking-related diseases.\n",
    "\n",
    "\n",
    "\n",
    "Overall, the boxplot suggests that smoking habit is strongly correlated with higher medical charges. Smokers tend to incur significantly higher expenses compared to non-smokers, indicating the potential financial burden and increased healthcare requirements associated with smoking-related health conditions. This finding underscores the importance of preventive measures, smoking cessation programs, and targeted healthcare interventions to address the adverse health effects and costs associated with smoking."
   ]
  },
  {
   "cell_type": "code",
   "execution_count": 36,
   "id": "dd42d02c",
   "metadata": {},
   "outputs": [],
   "source": [
    "# data transformation"
   ]
  },
  {
   "cell_type": "code",
   "execution_count": 37,
   "id": "13eb016b",
   "metadata": {},
   "outputs": [],
   "source": [
    "query = \"SELECT *FROM insurance_data\"\n",
    "result = pd.read_sql(query, con)"
   ]
  },
  {
   "cell_type": "code",
   "execution_count": 39,
   "id": "49b727c7",
   "metadata": {},
   "outputs": [
    {
     "name": "stdout",
     "output_type": "stream",
     "text": [
      "      age     sex     bmi  children smoker     region      charges\n",
      "0      19  female  27.900         0    yes  southwest  16884.92400\n",
      "1      18    male  33.770         1     no  southeast   1725.55230\n",
      "2      28    male  33.000         3     no  southeast   4449.46200\n",
      "3      33    male  22.705         0     no  northwest  21984.47061\n",
      "4      32    male  28.880         0     no  northwest   3866.85520\n",
      "...   ...     ...     ...       ...    ...        ...          ...\n",
      "1333   50    male  30.970         3     no  northwest  10600.54830\n",
      "1334   18  female  31.920         0     no  northeast   2205.98080\n",
      "1335   18  female  36.850         0     no  southeast   1629.83350\n",
      "1336   21  female  25.800         0     no  southwest   2007.94500\n",
      "1337   61  female  29.070         0    yes  northwest  29141.36030\n",
      "\n",
      "[1338 rows x 7 columns]\n"
     ]
    }
   ],
   "source": [
    "print(result)"
   ]
  },
  {
   "cell_type": "code",
   "execution_count": 40,
   "id": "4c65ec0b",
   "metadata": {},
   "outputs": [
    {
     "name": "stdout",
     "output_type": "stream",
     "text": [
      "      age  sex     bmi  children  smoker     region      charges\n",
      "0      19    0  27.900         0       1  southwest  16884.92400\n",
      "1      18    1  33.770         1       0  southeast   1725.55230\n",
      "2      28    1  33.000         3       0  southeast   4449.46200\n",
      "3      33    1  22.705         0       0  northwest  21984.47061\n",
      "4      32    1  28.880         0       0  northwest   3866.85520\n",
      "...   ...  ...     ...       ...     ...        ...          ...\n",
      "1333   50    1  30.970         3       0  northwest  10600.54830\n",
      "1334   18    0  31.920         0       0  northeast   2205.98080\n",
      "1335   18    0  36.850         0       0  southeast   1629.83350\n",
      "1336   21    0  25.800         0       0  southwest   2007.94500\n",
      "1337   61    0  29.070         0       1  northwest  29141.36030\n",
      "\n",
      "[1338 rows x 7 columns]\n"
     ]
    }
   ],
   "source": [
    "# Assuming you have stored the data into a DataFrame called 'df'\n",
    "\n",
    "# Define the mapping for sex\n",
    "sex_mapping = {'female': 0, 'male': 1}\n",
    "\n",
    "# Convert 'sex' column to integers using the mapping\n",
    "result['sex'] = df['sex'].map(sex_mapping)\n",
    "\n",
    "# Define the mapping for smoker\n",
    "smoker_mapping = {'no': 0, 'yes': 1}\n",
    "\n",
    "# Convert 'smoker' column to integers using the mapping\n",
    "result['smoker'] = result['smoker'].map(smoker_mapping)\n",
    "\n",
    "# Print the updated DataFrame\n",
    "print(result)\n"
   ]
  },
  {
   "cell_type": "code",
   "execution_count": null,
   "id": "1ee201e8",
   "metadata": {},
   "outputs": [],
   "source": []
  },
  {
   "cell_type": "code",
   "execution_count": null,
   "id": "0825e575",
   "metadata": {},
   "outputs": [],
   "source": []
  },
  {
   "cell_type": "code",
   "execution_count": null,
   "id": "5f40afcd",
   "metadata": {},
   "outputs": [],
   "source": []
  },
  {
   "cell_type": "code",
   "execution_count": null,
   "id": "b10e3ce4",
   "metadata": {},
   "outputs": [],
   "source": []
  },
  {
   "cell_type": "code",
   "execution_count": null,
   "id": "cde72d21",
   "metadata": {},
   "outputs": [],
   "source": []
  },
  {
   "cell_type": "code",
   "execution_count": null,
   "id": "791a827d",
   "metadata": {},
   "outputs": [],
   "source": []
  },
  {
   "cell_type": "code",
   "execution_count": null,
   "id": "99752b2f",
   "metadata": {},
   "outputs": [],
   "source": []
  },
  {
   "cell_type": "code",
   "execution_count": null,
   "id": "255f16e5",
   "metadata": {},
   "outputs": [],
   "source": []
  },
  {
   "cell_type": "code",
   "execution_count": null,
   "id": "9d48bd70",
   "metadata": {},
   "outputs": [],
   "source": []
  },
  {
   "cell_type": "code",
   "execution_count": null,
   "id": "8815eedb",
   "metadata": {},
   "outputs": [],
   "source": []
  },
  {
   "cell_type": "code",
   "execution_count": null,
   "id": "647768b0",
   "metadata": {},
   "outputs": [],
   "source": []
  },
  {
   "cell_type": "code",
   "execution_count": null,
   "id": "9e4f88ee",
   "metadata": {},
   "outputs": [],
   "source": []
  },
  {
   "cell_type": "code",
   "execution_count": null,
   "id": "e20ac0cc",
   "metadata": {},
   "outputs": [],
   "source": [
    "from sklearn.model_selection import train_test_split"
   ]
  },
  {
   "cell_type": "code",
   "execution_count": null,
   "id": "eb504d02",
   "metadata": {},
   "outputs": [],
   "source": []
  },
  {
   "cell_type": "code",
   "execution_count": null,
   "id": "fa2552cf",
   "metadata": {},
   "outputs": [],
   "source": []
  },
  {
   "cell_type": "code",
   "execution_count": null,
   "id": "9c3c7ddb",
   "metadata": {},
   "outputs": [],
   "source": []
  },
  {
   "cell_type": "code",
   "execution_count": null,
   "id": "44d0c685",
   "metadata": {},
   "outputs": [],
   "source": [
    "i"
   ]
  },
  {
   "cell_type": "code",
   "execution_count": null,
   "id": "c5ea2e23",
   "metadata": {},
   "outputs": [],
   "source": []
  },
  {
   "cell_type": "code",
   "execution_count": null,
   "id": "77e2b343",
   "metadata": {},
   "outputs": [],
   "source": []
  },
  {
   "cell_type": "code",
   "execution_count": null,
   "id": "0e2fec0e",
   "metadata": {},
   "outputs": [],
   "source": []
  },
  {
   "cell_type": "code",
   "execution_count": null,
   "id": "78fe35d3",
   "metadata": {},
   "outputs": [],
   "source": []
  },
  {
   "cell_type": "code",
   "execution_count": null,
   "id": "fc0eaa8d",
   "metadata": {},
   "outputs": [],
   "source": []
  },
  {
   "cell_type": "code",
   "execution_count": null,
   "id": "4d52c16b",
   "metadata": {},
   "outputs": [],
   "source": []
  },
  {
   "cell_type": "code",
   "execution_count": null,
   "id": "ff0f8bb4",
   "metadata": {},
   "outputs": [],
   "source": []
  },
  {
   "cell_type": "code",
   "execution_count": null,
   "id": "358a2427",
   "metadata": {},
   "outputs": [],
   "source": []
  },
  {
   "cell_type": "code",
   "execution_count": null,
   "id": "eef92cda",
   "metadata": {},
   "outputs": [],
   "source": []
  },
  {
   "cell_type": "code",
   "execution_count": null,
   "id": "eb474328",
   "metadata": {},
   "outputs": [],
   "source": []
  },
  {
   "cell_type": "code",
   "execution_count": null,
   "id": "acaeef56",
   "metadata": {},
   "outputs": [],
   "source": []
  },
  {
   "cell_type": "code",
   "execution_count": null,
   "id": "a194631c",
   "metadata": {},
   "outputs": [],
   "source": []
  },
  {
   "cell_type": "code",
   "execution_count": null,
   "id": "baf6fdbd",
   "metadata": {},
   "outputs": [],
   "source": []
  },
  {
   "cell_type": "code",
   "execution_count": null,
   "id": "84db9e5e",
   "metadata": {},
   "outputs": [],
   "source": []
  },
  {
   "cell_type": "code",
   "execution_count": null,
   "id": "5bc97c99",
   "metadata": {},
   "outputs": [],
   "source": []
  },
  {
   "cell_type": "code",
   "execution_count": null,
   "id": "1219f1a6",
   "metadata": {},
   "outputs": [],
   "source": []
  },
  {
   "cell_type": "code",
   "execution_count": null,
   "id": "fd176ccd",
   "metadata": {},
   "outputs": [],
   "source": [
    "# predictive analysis "
   ]
  },
  {
   "cell_type": "code",
   "execution_count": null,
   "id": "7088764b",
   "metadata": {},
   "outputs": [],
   "source": []
  },
  {
   "cell_type": "code",
   "execution_count": null,
   "id": "a4b4a27e",
   "metadata": {},
   "outputs": [],
   "source": []
  },
  {
   "cell_type": "code",
   "execution_count": null,
   "id": "dc5b5935",
   "metadata": {},
   "outputs": [],
   "source": []
  },
  {
   "cell_type": "code",
   "execution_count": null,
   "id": "46137a8a",
   "metadata": {},
   "outputs": [],
   "source": []
  },
  {
   "cell_type": "code",
   "execution_count": null,
   "id": "5fc9b96a",
   "metadata": {},
   "outputs": [],
   "source": []
  },
  {
   "cell_type": "code",
   "execution_count": null,
   "id": "f354dc8a",
   "metadata": {},
   "outputs": [],
   "source": [
    "# Convert the 'sex' column to numerical values for plotting\n",
    "#result['sex'] = result['sex'].map({'male': 0, 'female': 1})"
   ]
  },
  {
   "cell_type": "code",
   "execution_count": null,
   "id": "367aed53",
   "metadata": {},
   "outputs": [],
   "source": []
  },
  {
   "cell_type": "code",
   "execution_count": null,
   "id": "8fa756b0",
   "metadata": {},
   "outputs": [],
   "source": []
  },
  {
   "cell_type": "code",
   "execution_count": null,
   "id": "81a23159",
   "metadata": {},
   "outputs": [],
   "source": []
  },
  {
   "cell_type": "code",
   "execution_count": null,
   "id": "25b070b3",
   "metadata": {},
   "outputs": [],
   "source": []
  },
  {
   "cell_type": "code",
   "execution_count": null,
   "id": "18f2253b",
   "metadata": {},
   "outputs": [],
   "source": []
  },
  {
   "cell_type": "code",
   "execution_count": null,
   "id": "3e8f5cca",
   "metadata": {},
   "outputs": [],
   "source": []
  },
  {
   "cell_type": "code",
   "execution_count": null,
   "id": "6981cb6d",
   "metadata": {},
   "outputs": [],
   "source": []
  },
  {
   "cell_type": "code",
   "execution_count": null,
   "id": "28344d65",
   "metadata": {},
   "outputs": [],
   "source": []
  },
  {
   "cell_type": "code",
   "execution_count": null,
   "id": "a00568c8",
   "metadata": {},
   "outputs": [],
   "source": []
  },
  {
   "cell_type": "code",
   "execution_count": null,
   "id": "bc0aa461",
   "metadata": {},
   "outputs": [],
   "source": []
  },
  {
   "cell_type": "code",
   "execution_count": null,
   "id": "5c39cfa0",
   "metadata": {},
   "outputs": [],
   "source": []
  },
  {
   "cell_type": "code",
   "execution_count": null,
   "id": "ba0d05cc",
   "metadata": {},
   "outputs": [],
   "source": []
  },
  {
   "cell_type": "code",
   "execution_count": null,
   "id": "10b8d6df",
   "metadata": {},
   "outputs": [],
   "source": []
  },
  {
   "cell_type": "code",
   "execution_count": null,
   "id": "f9f1e953",
   "metadata": {},
   "outputs": [],
   "source": []
  },
  {
   "cell_type": "code",
   "execution_count": null,
   "id": "13443b85",
   "metadata": {},
   "outputs": [],
   "source": []
  },
  {
   "cell_type": "code",
   "execution_count": null,
   "id": "d5a05f61",
   "metadata": {},
   "outputs": [],
   "source": []
  },
  {
   "cell_type": "code",
   "execution_count": null,
   "id": "1eb83b11",
   "metadata": {},
   "outputs": [],
   "source": []
  },
  {
   "cell_type": "raw",
   "id": "cb4dc248",
   "metadata": {},
   "source": []
  }
 ],
 "metadata": {
  "kernelspec": {
   "display_name": "Python 3 (ipykernel)",
   "language": "python",
   "name": "python3"
  },
  "language_info": {
   "codemirror_mode": {
    "name": "ipython",
    "version": 3
   },
   "file_extension": ".py",
   "mimetype": "text/x-python",
   "name": "python",
   "nbconvert_exporter": "python",
   "pygments_lexer": "ipython3",
   "version": "3.7.4"
  }
 },
 "nbformat": 4,
 "nbformat_minor": 5
}
